{
 "cells": [
  {
   "cell_type": "code",
   "execution_count": 54,
   "metadata": {},
   "outputs": [],
   "source": [
    "from sklearn.feature_extraction.text import CountVectorizer, TfidfVectorizer\n",
    "import pandas as pd\n",
    "import numpy as np\n",
    "import pre_clean as clean\n",
    "from numpy import array\n",
    "import pyLDAvis\n",
    "import pyLDAvis.sklearn\n",
    "import warnings\n",
    "warnings.filterwarnings('ignore')  # To ignore all warnings that arise here to enhance clarity\n",
    "from sklearn.decomposition import LatentDirichletAllocation\n",
    "\n",
    "\n",
    "%matplotlib inline"
   ]
  },
  {
   "cell_type": "markdown",
   "metadata": {},
   "source": [
    "For using pyLDAvis visualization"
   ]
  },
  {
   "cell_type": "code",
   "execution_count": 32,
   "metadata": {},
   "outputs": [
    {
     "name": "stdout",
     "output_type": "stream",
     "text": [
      "biology_flashcards.txt              full_corpus_cleaned.txt\r\n",
      "biology_flashcards_cleaned.txt      history_flashcards.txt\r\n",
      "datascience_flashcards.txt          history_flashcards_cleaned.txt\r\n",
      "datascience_flashcards_cleaned.txt\r\n"
     ]
    }
   ],
   "source": [
    "%pwd\n",
    "%ls ../data/"
   ]
  },
  {
   "cell_type": "markdown",
   "metadata": {},
   "source": [
    "**Import data**"
   ]
  },
  {
   "cell_type": "code",
   "execution_count": 34,
   "metadata": {},
   "outputs": [],
   "source": [
    "data = '../data/datascience_flashcards.txt'\n",
    "df_datascience = clean.read_cards(data)\n",
    "#   biology cards\n",
    "data = '../data/biology_flashcards.txt'\n",
    "df_biology = clean.read_cards(data)\n",
    "#   history cards\n",
    "data = '../data/history_flashcards.txt'\n",
    "df_history = clean.read_cards(data)"
   ]
  },
  {
   "cell_type": "markdown",
   "metadata": {},
   "source": [
    "**Clean Each Data Set**"
   ]
  },
  {
   "cell_type": "code",
   "execution_count": 65,
   "metadata": {},
   "outputs": [
    {
     "name": "stdout",
     "output_type": "stream",
     "text": [
      " \n",
      "neutral\n",
      "tobacco. didn't have much food though. john smith led them, while john rolf got the tobacca with pocahonta (sp ).\n"
     ]
    }
   ],
   "source": [
    "df_datascience_clean = clean.clean_dataframe(df_datascience)\n",
    "df_biology_clean = clean.clean_dataframe(df_biology)\n",
    "df_history_clean = clean.clean_dataframe(df_history)"
   ]
  },
  {
   "cell_type": "markdown",
   "metadata": {},
   "source": [
    "**Collapse Each Dataset**"
   ]
  },
  {
   "cell_type": "code",
   "execution_count": 67,
   "metadata": {},
   "outputs": [],
   "source": [
    "df_datascience_collapsed = clean.collapse_df(df_datascience_clean)\n",
    "df_biology_collapsed = clean.collapse_df(df_biology_clean)\n",
    "df_history_collapsed = clean.collapse_df(df_history_clean)"
   ]
  },
  {
   "cell_type": "markdown",
   "metadata": {},
   "source": [
    "**Set Up Vectorizers**"
   ]
  },
  {
   "cell_type": "code",
   "execution_count": 81,
   "metadata": {},
   "outputs": [],
   "source": [
    "# datascience\n",
    "ds_count_vectorizer = CountVectorizer(min_df=5, max_df=0.80, stop_words='english', lowercase=True, token_pattern='[a-zA-Z\\-][a-zA-Z\\-]{2,}')\n",
    "ds_tfidf_vectorizer = TfidfVectorizer(min_df=5, max_df=0.80, stop_words='english', lowercase=True, token_pattern='[a-zA-Z\\-][a-zA-Z\\-]{2,}')\n",
    "\n",
    "# biology\n",
    "bio_count_vectorizer = CountVectorizer(min_df=5, max_df=0.80, stop_words='english', lowercase=True, token_pattern='[a-zA-Z\\-][a-zA-Z\\-]{2,}')\n",
    "bio_tfidf_vectorizer = TfidfVectorizer(min_df=5, max_df=0.80, stop_words='english', lowercase=True, token_pattern='[a-zA-Z\\-][a-zA-Z\\-]{2,}')\n",
    "\n",
    "# history\n",
    "his_count_vectorizer = CountVectorizer(min_df=5, max_df=0.80, stop_words='english', lowercase=True, token_pattern='[a-zA-Z\\-][a-zA-Z\\-]{2,}')\n",
    "his_tfidf_vectorizer = TfidfVectorizer(min_df=5, max_df=0.80, stop_words='english', lowercase=True, token_pattern='[a-zA-Z\\-][a-zA-Z\\-]{2,}')"
   ]
  },
  {
   "cell_type": "markdown",
   "metadata": {},
   "source": [
    "**Fit Vectorizers**"
   ]
  },
  {
   "cell_type": "code",
   "execution_count": 82,
   "metadata": {},
   "outputs": [],
   "source": [
    "# datascience\n",
    "ds_tfidf = ds_tfidf_vectorizer.fit_transform(df_datascience_collapsed)\n",
    "ds_count = ds_count_vectorizer.fit_transform(df_datascience_collapsed)\n",
    "\n",
    "# biology\n",
    "bio_tfidf = bio_tfidf_vectorizer.fit_transform(df_biology_collapsed)\n",
    "bio_count = bio_count_vectorizer.fit_transform(df_biology_collapsed)\n",
    "\n",
    "# history\n",
    "his_tfidf = his_tfidf_vectorizer.fit_transform(df_history_collapsed)\n",
    "his_count = his_count_vectorizer.fit_transform(df_history_collapsed)"
   ]
  },
  {
   "cell_type": "markdown",
   "metadata": {},
   "source": [
    "**Fit LDA Models**"
   ]
  },
  {
   "cell_type": "markdown",
   "metadata": {},
   "source": [
    "*Data Science*"
   ]
  },
  {
   "cell_type": "code",
   "execution_count": 83,
   "metadata": {},
   "outputs": [
    {
     "data": {
      "text/plain": [
       "LatentDirichletAllocation(batch_size=128, doc_topic_prior=None,\n",
       "             evaluate_every=-1, learning_decay=0.7, learning_method=None,\n",
       "             learning_offset=10.0, max_doc_update_iter=100, max_iter=10,\n",
       "             mean_change_tol=0.001, n_components=10, n_jobs=1, n_topics=5,\n",
       "             perp_tol=0.1, random_state=0, topic_word_prior=None,\n",
       "             total_samples=1000000.0, verbose=0)"
      ]
     },
     "execution_count": 83,
     "metadata": {},
     "output_type": "execute_result"
    }
   ],
   "source": [
    "# With Count Vector, running with default 10 iterations, 5 topics\n",
    "lda_ds_count = LatentDirichletAllocation(n_topics=5, random_state=0)\n",
    "lda_ds_count.fit(ds_count)\n",
    "\n",
    "# With TF-IDF matrix, running with default 10 iterations\n",
    "lda_ds_tfidf = LatentDirichletAllocation(n_topics=5, random_state=0)\n",
    "lda_ds_tfidf.fit(ds_tfidf)"
   ]
  },
  {
   "cell_type": "markdown",
   "metadata": {},
   "source": [
    "*Biology*"
   ]
  },
  {
   "cell_type": "code",
   "execution_count": 72,
   "metadata": {},
   "outputs": [
    {
     "data": {
      "text/plain": [
       "LatentDirichletAllocation(batch_size=128, doc_topic_prior=None,\n",
       "             evaluate_every=-1, learning_decay=0.7, learning_method=None,\n",
       "             learning_offset=10.0, max_doc_update_iter=100, max_iter=10,\n",
       "             mean_change_tol=0.001, n_components=10, n_jobs=1, n_topics=5,\n",
       "             perp_tol=0.1, random_state=0, topic_word_prior=None,\n",
       "             total_samples=1000000.0, verbose=0)"
      ]
     },
     "execution_count": 72,
     "metadata": {},
     "output_type": "execute_result"
    }
   ],
   "source": [
    "# With Count Vector, running with default 10 iterations, 5 topics\n",
    "lda_bio_count = LatentDirichletAllocation(n_topics=5, random_state=0)\n",
    "lda_bio_count.fit(bio_count)\n",
    "\n",
    "# With TF-IDF matrix, running with default 10 iterations\n",
    "lda_bio_tfidf = LatentDirichletAllocation(n_topics=5, random_state=0)\n",
    "lda_bio_tfidf.fit(bio_tfidf)"
   ]
  },
  {
   "cell_type": "markdown",
   "metadata": {},
   "source": [
    "*History*"
   ]
  },
  {
   "cell_type": "code",
   "execution_count": 73,
   "metadata": {},
   "outputs": [
    {
     "data": {
      "text/plain": [
       "LatentDirichletAllocation(batch_size=128, doc_topic_prior=None,\n",
       "             evaluate_every=-1, learning_decay=0.7, learning_method=None,\n",
       "             learning_offset=10.0, max_doc_update_iter=100, max_iter=10,\n",
       "             mean_change_tol=0.001, n_components=10, n_jobs=1, n_topics=5,\n",
       "             perp_tol=0.1, random_state=0, topic_word_prior=None,\n",
       "             total_samples=1000000.0, verbose=0)"
      ]
     },
     "execution_count": 73,
     "metadata": {},
     "output_type": "execute_result"
    }
   ],
   "source": [
    "# With Count Vector, running with default 10 iterations, 5 topics\n",
    "lda_his_count = LatentDirichletAllocation(n_topics=5, random_state=0)\n",
    "lda_his_count.fit(his_count)\n",
    "\n",
    "# With TF-IDF matrix, running with default 10 iterations\n",
    "lda_his_tfidf = LatentDirichletAllocation(n_topics=5, random_state=0)\n",
    "lda_his_tfidf.fit(his_tfidf)"
   ]
  },
  {
   "cell_type": "markdown",
   "metadata": {},
   "source": [
    "## Visualizing with pyLDAvis on each topic separately\n"
   ]
  },
  {
   "cell_type": "markdown",
   "metadata": {},
   "source": [
    "**Data Science Topic Vis**"
   ]
  },
  {
   "cell_type": "code",
   "execution_count": 93,
   "metadata": {},
   "outputs": [],
   "source": [
    "# First with Count Vector on Data Science\n",
    "pyl_ds_data_cv = pyLDAvis.sklearn.prepare(lda_ds_count, ds_count, ds_count_vectorizer, R=15)\n",
    "pyLDAvis.display(pyl_ds_data_cv)\n",
    "# pyLDAvis.save_html(pyl_ds_data_cv, \"../images/datascience_count_vect_topics.html\")"
   ]
  },
  {
   "cell_type": "code",
   "execution_count": 95,
   "metadata": {},
   "outputs": [],
   "source": [
    "# Next with TFIDF Vector on Data Science\n",
    "pyl_ds_data_tfidf = pyLDAvis.sklearn.prepare(lda_ds_tfidf, ds_tfidf, ds_tfidf_vectorizer, R=15)\n",
    "pyLDAvis.display(pyl_ds_data_tfidf)\n",
    "# pyLDAvis.save_html(pyl_ds_data_tfidf, \"../images/datascience_tfidf_vect_topics.html\")"
   ]
  },
  {
   "cell_type": "markdown",
   "metadata": {},
   "source": [
    "**Biology Topic Vis**"
   ]
  },
  {
   "cell_type": "code",
   "execution_count": 97,
   "metadata": {},
   "outputs": [],
   "source": [
    "# First with Count Vector on Biology\n",
    "pyl_bio_data_cv = pyLDAvis.sklearn.prepare(lda_bio_count, bio_count, bio_count_vectorizer, R=15)\n",
    "pyLDAvis.display(pyl_bio_data_cv)\n",
    "# pyLDAvis.save_html(pyl_bio_data_cv, \"../images/bio_count_vect_topics.html\")"
   ]
  },
  {
   "cell_type": "code",
   "execution_count": 99,
   "metadata": {},
   "outputs": [],
   "source": [
    "# Next with TFIDF Vector on Biology\n",
    "pyl_bio_data_tfidf = pyLDAvis.sklearn.prepare(lda_bio_tfidf, bio_tfidf, bio_tfidf_vectorizer, R=15)\n",
    "pyLDAvis.display(pyl_bio_data_tfidf)\n",
    "# pyLDAvis.save_html(pyl_bio_data_tfidf, \"../images/bio_tfidf_vect_topics.html\")"
   ]
  },
  {
   "cell_type": "markdown",
   "metadata": {},
   "source": [
    "**History Topic Vis**"
   ]
  },
  {
   "cell_type": "code",
   "execution_count": 101,
   "metadata": {},
   "outputs": [],
   "source": [
    "# First with Count Vector on History\n",
    "pyl_his_data_cv = pyLDAvis.sklearn.prepare(lda_his_count, his_count, his_count_vectorizer, R=15)\n",
    "pyLDAvis.display(pyl_his_data_cv)\n",
    "# pyLDAvis.save_html(pyl_his_data_cv, \"../images/his_count_vect_topics.html\")"
   ]
  },
  {
   "cell_type": "code",
   "execution_count": 103,
   "metadata": {},
   "outputs": [],
   "source": [
    "# Next with TFIDF Vector on History\n",
    "pyl_his_data_tfidf = pyLDAvis.sklearn.prepare(lda_his_tfidf, his_tfidf, his_tfidf_vectorizer, R=15)\n",
    "pyLDAvis.display(pyl_his_data_tfidf)\n",
    "# pyLDAvis.save_html(pyl_his_data_tfidf, \"../images/his_tfidf_vect_topics.html\")"
   ]
  },
  {
   "cell_type": "markdown",
   "metadata": {},
   "source": [
    "## **concat to build full corpus**"
   ]
  },
  {
   "cell_type": "code",
   "execution_count": 105,
   "metadata": {},
   "outputs": [
    {
     "data": {
      "text/plain": [
       "36188"
      ]
     },
     "execution_count": 105,
     "metadata": {},
     "output_type": "execute_result"
    }
   ],
   "source": [
    "frames = [df_datascience, df_biology, df_history]\n",
    "corpus = pd.concat(frames)\n",
    "len(corpus)"
   ]
  },
  {
   "cell_type": "markdown",
   "metadata": {},
   "source": [
    "**Clean Corpus**"
   ]
  },
  {
   "cell_type": "code",
   "execution_count": 106,
   "metadata": {},
   "outputs": [
    {
     "name": "stdout",
     "output_type": "stream",
     "text": [
      "79                                                     \n",
      "79                                              neutral\n",
      "79    tobacco. didn't have much food though. john sm...\n",
      "Name: answer, dtype: object\n"
     ]
    }
   ],
   "source": [
    "# clean corpus\n",
    "corpus_clean = clean.clean_dataframe(corpus)\n",
    "corpus_collapsed = clean.collapse_df(corpus_clean)"
   ]
  },
  {
   "cell_type": "markdown",
   "metadata": {},
   "source": [
    "**Set up vectorizers**"
   ]
  },
  {
   "cell_type": "code",
   "execution_count": 107,
   "metadata": {},
   "outputs": [],
   "source": [
    "count_vectorizer = CountVectorizer(min_df=5, max_df=0.80, stop_words='english', lowercase=True, token_pattern='[a-zA-Z\\-][a-zA-Z\\-]{2,}')\n",
    "tfidf_vectorizer = TfidfVectorizer(min_df=5, max_df=0.80, stop_words='english', lowercase=True, token_pattern='[a-zA-Z\\-][a-zA-Z\\-]{2,}')"
   ]
  },
  {
   "cell_type": "markdown",
   "metadata": {},
   "source": [
    "**Fit vectorizers**"
   ]
  },
  {
   "cell_type": "code",
   "execution_count": 108,
   "metadata": {},
   "outputs": [],
   "source": [
    "corpus_tfidf = tfidf_vectorizer.fit_transform(corpus_collapsed)\n",
    "corpus_count = count_vectorizer.fit_transform(corpus_collapsed)"
   ]
  },
  {
   "cell_type": "code",
   "execution_count": 109,
   "metadata": {},
   "outputs": [
    {
     "data": {
      "text/plain": [
       "(36188, 9436)"
      ]
     },
     "execution_count": 109,
     "metadata": {},
     "output_type": "execute_result"
    }
   ],
   "source": [
    "corpus_tfidf.shape"
   ]
  },
  {
   "cell_type": "markdown",
   "metadata": {},
   "source": [
    "**Fit LDA models**"
   ]
  },
  {
   "cell_type": "code",
   "execution_count": 110,
   "metadata": {},
   "outputs": [
    {
     "data": {
      "text/plain": [
       "LatentDirichletAllocation(batch_size=128, doc_topic_prior=None,\n",
       "             evaluate_every=-1, learning_decay=0.7, learning_method=None,\n",
       "             learning_offset=10.0, max_doc_update_iter=100, max_iter=10,\n",
       "             mean_change_tol=0.001, n_components=10, n_jobs=1, n_topics=3,\n",
       "             perp_tol=0.1, random_state=0, topic_word_prior=None,\n",
       "             total_samples=1000000.0, verbose=0)"
      ]
     },
     "execution_count": 110,
     "metadata": {},
     "output_type": "execute_result"
    }
   ],
   "source": [
    "# With Count Vector, running with default 10 iterations\n",
    "lda_corpus_count = LatentDirichletAllocation(n_topics=3, random_state=0)\n",
    "lda_corpus_count.fit(corpus_count)"
   ]
  },
  {
   "cell_type": "code",
   "execution_count": 111,
   "metadata": {},
   "outputs": [
    {
     "data": {
      "text/plain": [
       "LatentDirichletAllocation(batch_size=128, doc_topic_prior=None,\n",
       "             evaluate_every=-1, learning_decay=0.7, learning_method=None,\n",
       "             learning_offset=10.0, max_doc_update_iter=100, max_iter=10,\n",
       "             mean_change_tol=0.001, n_components=10, n_jobs=1, n_topics=3,\n",
       "             perp_tol=0.1, random_state=0, topic_word_prior=None,\n",
       "             total_samples=1000000.0, verbose=0)"
      ]
     },
     "execution_count": 111,
     "metadata": {},
     "output_type": "execute_result"
    }
   ],
   "source": [
    "# With TF-IDF matrix, running with default 10 iterations\n",
    "lda_corpus_tfidf = LatentDirichletAllocation(n_topics=3, random_state=0)\n",
    "lda_corpus_tfidf.fit(corpus_tfidf)"
   ]
  },
  {
   "cell_type": "markdown",
   "metadata": {},
   "source": [
    "## Visualizing with pyLDAvis on Full Corpus (all topics)"
   ]
  },
  {
   "cell_type": "markdown",
   "metadata": {},
   "source": [
    "### First on TF Vector"
   ]
  },
  {
   "cell_type": "code",
   "execution_count": 112,
   "metadata": {},
   "outputs": [
    {
     "data": {
      "text/html": [
       "\n",
       "<link rel=\"stylesheet\" type=\"text/css\" href=\"https://cdn.rawgit.com/bmabey/pyLDAvis/files/ldavis.v1.0.0.css\">\n",
       "\n",
       "\n",
       "<div id=\"ldavis_el395941121715481282059220928\"></div>\n",
       "<script type=\"text/javascript\">\n",
       "\n",
       "var ldavis_el395941121715481282059220928_data = {\"mdsDat\": {\"Freq\": [36.58741390894549, 32.75353805010696, 30.659048040947546], \"cluster\": [1, 1, 1], \"topics\": [1, 2, 3], \"x\": [0.17456565813311062, -0.3053439361270054, 0.1307782779938947], \"y\": [0.22291453540541908, 0.022380982174982595, -0.24529551758040172]}, \"tinfo\": {\"Category\": [\"Default\", \"Default\", \"Default\", \"Default\", \"Default\", \"Default\", \"Default\", \"Default\", \"Default\", \"Default\", \"Default\", \"Default\", \"Default\", \"Default\", \"Default\", \"Topic1\", \"Topic1\", \"Topic1\", \"Topic1\", \"Topic1\", \"Topic1\", \"Topic1\", \"Topic1\", \"Topic1\", \"Topic1\", \"Topic1\", \"Topic1\", \"Topic1\", \"Topic1\", \"Topic1\", \"Topic1\", \"Topic1\", \"Topic1\", \"Topic1\", \"Topic1\", \"Topic1\", \"Topic1\", \"Topic1\", \"Topic1\", \"Topic1\", \"Topic1\", \"Topic1\", \"Topic1\", \"Topic2\", \"Topic2\", \"Topic2\", \"Topic2\", \"Topic2\", \"Topic2\", \"Topic2\", \"Topic2\", \"Topic2\", \"Topic2\", \"Topic2\", \"Topic2\", \"Topic2\", \"Topic2\", \"Topic2\", \"Topic2\", \"Topic2\", \"Topic2\", \"Topic3\", \"Topic3\", \"Topic3\", \"Topic3\", \"Topic3\", \"Topic3\", \"Topic3\", \"Topic3\", \"Topic3\", \"Topic3\", \"Topic3\", \"Topic3\", \"Topic3\", \"Topic3\", \"Topic3\", \"Topic3\", \"Topic3\", \"Topic3\", \"Topic3\", \"Topic3\", \"Topic3\", \"Topic3\", \"Topic3\"], \"Freq\": [3023.0, 2120.0, 1779.0, 1334.0, 1170.0, 1159.0, 1240.0, 981.0, 911.0, 848.0, 1045.0, 943.0, 3889.0, 802.0, 869.0, 1778.7264356906398, 942.4313002366583, 867.838894606125, 868.763905757893, 707.8537753391007, 703.9083842286541, 711.8506472607096, 742.1304842441137, 666.3451751931713, 668.9107366540281, 655.3615327998862, 601.279533810975, 551.8764083632428, 554.126825253619, 515.5582018754346, 2106.197684226375, 1237.1849797087648, 796.0199044224518, 645.6950351614267, 1036.7667960116457, 1017.5929722634546, 2828.4737782906664, 1237.8953605470426, 1508.730252707349, 860.8916384147873, 762.1713152170591, 947.0764237508569, 900.0902302433096, 1158.7800466138192, 980.9205396458381, 910.3748450833409, 801.2173809978154, 660.7131297629714, 648.4488892950387, 644.5598330088555, 643.4415480368018, 613.8839895152454, 608.0271610825877, 615.7190808775716, 1332.9349088496992, 600.9976086663469, 594.0567944248631, 544.9409331656022, 566.6633980524908, 719.585239371059, 642.615099188916, 3023.178298968958, 1169.6184672551317, 669.9102052553443, 646.8033386643989, 637.5594810683631, 582.6068814669138, 553.654633748497, 554.5322112707001, 504.129985730573, 480.80100663909894, 465.6098552829235, 847.1558733445295, 431.0056170051796, 447.86529428946614, 424.7773100698899, 492.03751876902425, 886.8025615365102, 776.5761505377475, 906.5073699897132, 1140.5372796000372, 829.7101705067848, 604.8719546181944, 655.4311829777018], \"Term\": [\"cell\", \"data\", \"model\", \"state\", \"protein\", \"war\", \"variabl\", \"empir\", \"peopl\", \"produc\", \"valu\", \"distribut\", \"use\", \"power\", \"featur\", \"model\", \"distribut\", \"test\", \"featur\", \"algorithm\", \"linear\", \"train\", \"matrix\", \"theta\", \"error\", \"text\", \"sampl\", \"frac\", \"measur\", \"random\", \"data\", \"variabl\", \"learn\", \"problem\", \"valu\", \"mean\", \"use\", \"set\", \"function\", \"number\", \"point\", \"differ\", \"caus\", \"war\", \"empir\", \"peopl\", \"power\", \"amask\", \"china\", \"roman\", \"did\", \"govern\", \"nation\", \"style\", \"state\", \"trade\", \"world\", \"polit\", \"display\", \"new\", \"rule\", \"cell\", \"protein\", \"plant\", \"dna\", \"receptor\", \"blood\", \"gene\", \"bind\", \"water\", \"molecul\", \"speci\", \"produc\", \"antigen\", \"virus\", \"cells\", \"contain\", \"organ\", \"activ\", \"type\", \"caus\", \"form\", \"infect\", \"use\"], \"Total\": [3023.0, 2120.0, 1779.0, 1334.0, 1170.0, 1159.0, 1240.0, 981.0, 911.0, 848.0, 1045.0, 943.0, 3889.0, 802.0, 869.0, 1779.338632163844, 943.0601120128987, 868.4728951389319, 869.4737584102062, 708.460024601197, 704.5152917217724, 712.4816979880339, 742.7954747074506, 666.9446370000635, 669.519254842425, 656.0004464047882, 601.8912801459609, 552.476416031861, 554.7495571641165, 516.1710773129425, 2120.5834945944707, 1240.5297567099203, 796.970502953179, 646.6085468798886, 1045.609050919083, 1077.2558639712552, 3889.9339785799602, 1433.6668344457785, 2074.423611817141, 948.003825645194, 809.0744844451722, 1305.8988408034197, 2055.9150788431066, 1159.5699645083694, 981.7801093405245, 911.1942340082804, 802.1190849143151, 661.5014984416127, 649.2437252447666, 645.3525329387252, 644.2682745883309, 614.6817722466835, 608.8223888715229, 616.5261356410812, 1334.7001573823711, 601.7952217827113, 594.8789938165248, 545.7322965748851, 568.7317279331039, 1098.289052302655, 859.7747859035018, 3023.8663909451884, 1170.3046958819534, 670.6039712461796, 647.4883782158549, 638.2421378641178, 583.3088382207563, 554.341406205109, 555.2253297559221, 504.84431689954545, 481.4836180600013, 466.3338212358507, 848.4919048123463, 431.6957396584322, 448.58968551819197, 425.47907794264603, 494.4117163708682, 1026.7449280721426, 876.2741486655874, 1181.0165641618387, 2055.9150788431066, 1390.3973185342015, 1029.9157874989526, 3889.9339785799602], \"loglift\": [15.0, 14.0, 13.0, 12.0, 11.0, 10.0, 9.0, 8.0, 7.0, 6.0, 5.0, 4.0, 3.0, 2.0, 1.0, 1.0051, 1.0048, 1.0047, 1.0046, 1.0046, 1.0046, 1.0046, 1.0046, 1.0046, 1.0046, 1.0045, 1.0044, 1.0044, 1.0043, 1.0043, 0.9987, 1.0028, 1.0043, 1.0041, 0.997, 0.9485, 0.6868, 0.8586, 0.6871, 0.9091, 0.9457, 0.6842, 0.1795, 1.1155, 1.1153, 1.1153, 1.115, 1.115, 1.1149, 1.1149, 1.1149, 1.1149, 1.1149, 1.1148, 1.1148, 1.1148, 1.1148, 1.1147, 1.1125, 0.6933, 0.825, 1.182, 1.1817, 1.1812, 1.1812, 1.1812, 1.181, 1.181, 1.181, 1.1808, 1.1808, 1.1807, 1.1807, 1.1806, 1.1806, 1.1806, 1.1774, 1.0357, 1.0615, 0.9177, 0.593, 0.666, 0.65, -0.5986], \"logprob\": [15.0, 14.0, 13.0, 12.0, 11.0, 10.0, 9.0, 8.0, 7.0, 6.0, 5.0, 4.0, 3.0, 2.0, 1.0, -4.5697, -5.2048, -5.2873, -5.2862, -5.4911, -5.4967, -5.4854, -5.4438, -5.5515, -5.5477, -5.5681, -5.6542, -5.74, -5.7359, -5.8081, -4.4007, -4.9327, -5.3737, -5.583, -5.1094, -5.1281, -4.1058, -4.9321, -4.7343, -5.2953, -5.4171, -5.1999, -5.2508, -4.8875, -5.0541, -5.1288, -5.2565, -5.4493, -5.468, -5.474, -5.4758, -5.5228, -5.5324, -5.5198, -4.7475, -5.544, -5.5556, -5.6419, -5.6028, -5.3639, -5.4771, -3.8625, -4.8121, -5.3694, -5.4045, -5.4189, -5.509, -5.56, -5.5584, -5.6537, -5.7011, -5.7332, -5.1346, -5.8104, -5.772, -5.825, -5.678, -5.0889, -5.2216, -5.0669, -4.8373, -5.1555, -5.4715, -5.3912]}, \"token.table\": {\"Topic\": [1, 3, 1, 2, 3, 3, 3, 1, 2, 3, 3, 3, 2, 1, 2, 3, 1, 3, 2, 1, 2, 3, 2, 3, 1, 3, 1, 2, 1, 1, 1, 2, 3, 1, 1, 2, 3, 3, 2, 1, 3, 1, 2, 1, 1, 1, 2, 1, 1, 3, 2, 1, 2, 3, 1, 3, 2, 3, 2, 3, 1, 2, 3, 2, 1, 2, 1, 2, 1, 2, 3, 3, 1, 3, 2, 1, 2, 1, 1, 2, 3, 3, 1, 2, 3, 2, 1, 1, 1, 2, 1, 1, 3, 1, 2, 3, 1, 3, 1, 3, 3, 2, 3, 2], \"Freq\": [0.11297834148224015, 0.886708801330309, 0.9993506696422907, 0.9992418786007375, 0.9983883564406202, 0.999594165208527, 0.9994705408172824, 0.43776127198135206, 0.007296021199689201, 0.5549840125896919, 0.9997134823986328, 0.9988740270262816, 0.9980843476857667, 0.00202260578964492, 0.00202260578964492, 0.9951220485053006, 0.9931228859266117, 0.006601956506634645, 0.9980314495710016, 0.7251710242865238, 0.034459024385315284, 0.23968165850230408, 0.9969551058116674, 0.0035165964931628477, 0.9988758807637024, 0.9992457343910934, 0.001018558015675948, 0.9992054133781051, 0.9992244362821989, 0.9994551205190224, 0.19203144053922616, 0.211450350256676, 0.5969516690919764, 0.9991376717303466, 0.7274309795761317, 0.06748862633575774, 0.20535824870737712, 0.9993841228504899, 0.9988908533204236, 0.41265509778432463, 0.5874266686106269, 0.9987822598834175, 0.0012547515827681125, 0.9992685868882801, 0.9989290797607997, 0.9449936955991021, 0.054768789823523595, 0.9986488368409914, 0.9998096864993977, 0.9989955669479476, 0.9986492138157941, 0.2230742439673208, 0.655565125128453, 0.121097446725117, 0.908224182971012, 0.09177178155456218, 0.13537929061017323, 0.8638951854044867, 0.9986893749282992, 0.9990993622583874, 0.9418168718082195, 0.04820322572246793, 0.009887841173839574, 0.9986581395686471, 0.0012466976771994189, 0.9986048394367345, 0.9990588635383415, 0.0015465307485113646, 0.001178561627198036, 0.001178561627198036, 0.9982416982367366, 0.9997396439721847, 0.9996685647056531, 0.9996206175528802, 0.9994537358718965, 0.2523916769342842, 0.7478702685195611, 0.9985192007670476, 0.8635200105459518, 0.06347360336000131, 0.07323877310769382, 0.9992841582131744, 0.0007492319488155386, 0.998726187771113, 0.0007492319488155386, 0.9991466125916396, 0.9994554865884948, 0.998474930298796, 0.9985836350610562, 0.9986785840865342, 0.999323915281762, 0.23200351994593435, 0.7679824547115418, 0.7270046267038125, 0.10437195135846812, 0.16838332054137098, 0.9917664724578313, 0.008607423579672596, 0.9971546376128197, 0.002418321675698027, 0.9986854679516075, 0.9995084690654168, 0.9983275697650105, 0.9985223989657367], \"Term\": [\"activ\", \"activ\", \"algorithm\", \"amask\", \"antigen\", \"bind\", \"blood\", \"caus\", \"caus\", \"caus\", \"cell\", \"cells\", \"china\", \"contain\", \"contain\", \"contain\", \"data\", \"data\", \"did\", \"differ\", \"differ\", \"differ\", \"display\", \"display\", \"distribut\", \"dna\", \"empir\", \"empir\", \"error\", \"featur\", \"form\", \"form\", \"form\", \"frac\", \"function\", \"function\", \"function\", \"gene\", \"govern\", \"infect\", \"infect\", \"learn\", \"learn\", \"linear\", \"matrix\", \"mean\", \"mean\", \"measur\", \"model\", \"molecul\", \"nation\", \"new\", \"new\", \"new\", \"number\", \"number\", \"organ\", \"organ\", \"peopl\", \"plant\", \"point\", \"point\", \"point\", \"polit\", \"power\", \"power\", \"problem\", \"problem\", \"produc\", \"produc\", \"produc\", \"protein\", \"random\", \"receptor\", \"roman\", \"rule\", \"rule\", \"sampl\", \"set\", \"set\", \"set\", \"speci\", \"state\", \"state\", \"state\", \"style\", \"test\", \"text\", \"theta\", \"trade\", \"train\", \"type\", \"type\", \"use\", \"use\", \"use\", \"valu\", \"valu\", \"variabl\", \"variabl\", \"virus\", \"war\", \"water\", \"world\"]}, \"R\": 15, \"lambda.step\": 0.01, \"plot.opts\": {\"xlab\": \"PC1\", \"ylab\": \"PC2\"}, \"topic.order\": [1, 3, 2]};\n",
       "\n",
       "function LDAvis_load_lib(url, callback){\n",
       "  var s = document.createElement('script');\n",
       "  s.src = url;\n",
       "  s.async = true;\n",
       "  s.onreadystatechange = s.onload = callback;\n",
       "  s.onerror = function(){console.warn(\"failed to load library \" + url);};\n",
       "  document.getElementsByTagName(\"head\")[0].appendChild(s);\n",
       "}\n",
       "\n",
       "if(typeof(LDAvis) !== \"undefined\"){\n",
       "   // already loaded: just create the visualization\n",
       "   !function(LDAvis){\n",
       "       new LDAvis(\"#\" + \"ldavis_el395941121715481282059220928\", ldavis_el395941121715481282059220928_data);\n",
       "   }(LDAvis);\n",
       "}else if(typeof define === \"function\" && define.amd){\n",
       "   // require.js is available: use it to load d3/LDAvis\n",
       "   require.config({paths: {d3: \"https://cdnjs.cloudflare.com/ajax/libs/d3/3.5.5/d3.min\"}});\n",
       "   require([\"d3\"], function(d3){\n",
       "      window.d3 = d3;\n",
       "      LDAvis_load_lib(\"https://cdn.rawgit.com/bmabey/pyLDAvis/files/ldavis.v1.0.0.js\", function(){\n",
       "        new LDAvis(\"#\" + \"ldavis_el395941121715481282059220928\", ldavis_el395941121715481282059220928_data);\n",
       "      });\n",
       "    });\n",
       "}else{\n",
       "    // require.js not available: dynamically load d3 & LDAvis\n",
       "    LDAvis_load_lib(\"https://cdnjs.cloudflare.com/ajax/libs/d3/3.5.5/d3.min.js\", function(){\n",
       "         LDAvis_load_lib(\"https://cdn.rawgit.com/bmabey/pyLDAvis/files/ldavis.v1.0.0.js\", function(){\n",
       "                 new LDAvis(\"#\" + \"ldavis_el395941121715481282059220928\", ldavis_el395941121715481282059220928_data);\n",
       "            })\n",
       "         });\n",
       "}\n",
       "</script>"
      ],
      "text/plain": [
       "<IPython.core.display.HTML object>"
      ]
     },
     "execution_count": 112,
     "metadata": {},
     "output_type": "execute_result"
    }
   ],
   "source": [
    "# First with Count Vector\n",
    "pyl_data_cv = pyLDAvis.sklearn.prepare(lda_corpus_count, corpus_count, count_vectorizer, R=15)\n",
    "pyLDAvis.display(pyl_data_cv)\n",
    "# pyLDAvis.save_html(pyl_data_cv, \"../images/all_count_vect_topics.html\")"
   ]
  },
  {
   "cell_type": "markdown",
   "metadata": {},
   "source": [
    "### Now on TF-IDF Vector"
   ]
  },
  {
   "cell_type": "code",
   "execution_count": 113,
   "metadata": {},
   "outputs": [
    {
     "data": {
      "text/html": [
       "\n",
       "<link rel=\"stylesheet\" type=\"text/css\" href=\"https://cdn.rawgit.com/bmabey/pyLDAvis/files/ldavis.v1.0.0.css\">\n",
       "\n",
       "\n",
       "<div id=\"ldavis_el395941119756660967911256465\"></div>\n",
       "<script type=\"text/javascript\">\n",
       "\n",
       "var ldavis_el395941119756660967911256465_data = {\"mdsDat\": {\"Freq\": [42.974427046122834, 34.695426628335795, 22.33014632554136], \"cluster\": [1, 1, 1], \"topics\": [1, 2, 3], \"x\": [-0.229312638880888, 0.20565634453411855, 0.023656294346769333], \"y\": [-0.10052617058452101, -0.13972522594389494, 0.2402513965284161]}, \"tinfo\": {\"Category\": [\"Default\", \"Default\", \"Default\", \"Default\", \"Default\", \"Default\", \"Default\", \"Default\", \"Default\", \"Default\", \"Default\", \"Default\", \"Default\", \"Default\", \"Default\", \"Topic1\", \"Topic1\", \"Topic1\", \"Topic1\", \"Topic1\", \"Topic1\", \"Topic1\", \"Topic1\", \"Topic1\", \"Topic1\", \"Topic1\", \"Topic1\", \"Topic1\", \"Topic1\", \"Topic1\", \"Topic1\", \"Topic1\", \"Topic1\", \"Topic1\", \"Topic1\", \"Topic1\", \"Topic1\", \"Topic1\", \"Topic1\", \"Topic1\", \"Topic1\", \"Topic1\", \"Topic1\", \"Topic1\", \"Topic2\", \"Topic2\", \"Topic2\", \"Topic2\", \"Topic2\", \"Topic2\", \"Topic2\", \"Topic2\", \"Topic2\", \"Topic2\", \"Topic2\", \"Topic2\", \"Topic2\", \"Topic2\", \"Topic2\", \"Topic2\", \"Topic2\", \"Topic2\", \"Topic2\", \"Topic2\", \"Topic2\", \"Topic2\", \"Topic2\", \"Topic2\", \"Topic3\", \"Topic3\", \"Topic3\", \"Topic3\", \"Topic3\", \"Topic3\", \"Topic3\", \"Topic3\", \"Topic3\", \"Topic3\", \"Topic3\", \"Topic3\", \"Topic3\", \"Topic3\", \"Topic3\", \"Topic3\", \"Topic3\", \"Topic3\", \"Topic3\", \"Topic3\", \"Topic3\", \"Topic3\", \"Topic3\", \"Topic3\", \"Topic3\"], \"Freq\": [188.0, 210.0, 438.0, 127.0, 275.0, 216.0, 208.0, 217.0, 106.0, 163.0, 140.0, 202.0, 135.0, 202.0, 139.0, 207.56001926121743, 158.6097490737859, 126.4688737858847, 119.93936721684449, 128.02316065713157, 102.78026933968938, 105.77700211408305, 100.50298666717204, 146.6170371730567, 90.69093262406426, 91.31172349233817, 102.17498820234711, 81.62920293413262, 87.40885610696871, 80.34581083259944, 214.47460427001386, 115.85160779433808, 197.70581359594007, 266.2335953175019, 134.02994288861407, 153.00482730543575, 122.45351574322827, 122.43997895604276, 153.9649704682192, 322.4385879362371, 164.98657160645809, 269.8983438061121, 139.0194845538376, 142.0437642540915, 139.35011649571328, 134.41108835627514, 209.32306009553187, 116.86220971150958, 115.56068753900254, 127.49844737831441, 111.75885338369129, 101.69119436110601, 99.250327080234, 92.18535519542057, 87.71593803973845, 85.15345347381846, 82.01660639469385, 84.68812343876844, 82.08717581455824, 123.38769410210115, 97.82741282077822, 137.11215476384518, 159.57455740409242, 91.06686392839218, 191.62958370671402, 160.78080032808637, 108.33539959302388, 127.58717822418735, 187.35038056578736, 126.94108473863193, 71.50713007258376, 67.4955568851546, 70.34796722203042, 54.49534785351806, 86.81632870354949, 49.4585427800863, 47.06204598298026, 58.29968592563669, 53.28104037920426, 42.51848044932701, 45.78636329126277, 56.066225195446385, 42.57308377733433, 104.6921820851398, 65.14423535103616, 68.05813367080904, 69.88578632905865, 62.91487483195604, 93.09832505960327, 129.66716834985348, 69.65169798699026, 116.0788894903044, 71.16197135721923], \"Term\": [\"date\", \"war\", \"cell\", \"hint\", \"function\", \"data\", \"protein\", \"state\", \"blood\", \"peopl\", \"did\", \"model\", \"power\", \"caus\", \"rule\", \"protein\", \"variabl\", \"dna\", \"gene\", \"receptor\", \"molecul\", \"bind\", \"object\", \"distribut\", \"frac\", \"antigen\", \"algorithm\", \"specif\", \"immun\", \"enzym\", \"data\", \"matrix\", \"model\", \"function\", \"valu\", \"activ\", \"process\", \"number\", \"doe\", \"cell\", \"set\", \"use\", \"differ\", \"type\", \"did\", \"power\", \"war\", \"nation\", \"govern\", \"roman\", \"trade\", \"polit\", \"great\", \"leader\", \"chines\", \"european\", \"econom\", \"dynasti\", \"revolut\", \"china\", \"american\", \"rule\", \"peopl\", \"year\", \"state\", \"empir\", \"world\", \"new\", \"date\", \"hint\", \"muscl\", \"layer\", \"diseas\", \"transmit\", \"bce\", \"bone\", \"neuron\", \"hormon\", \"mongol\", \"phylum\", \"connect\", \"node\", \"amino\", \"blood\", \"network\", \"tissu\", \"secret\", \"begin\", \"infect\", \"caus\", \"theta\", \"cell\", \"associ\"], \"Total\": [188.0, 210.0, 438.0, 127.0, 275.0, 216.0, 208.0, 217.0, 106.0, 163.0, 140.0, 202.0, 135.0, 202.0, 139.0, 208.16639946325222, 159.2412850428799, 127.04722759743348, 120.52230390670275, 128.7499409812747, 103.37618776927269, 106.39070906597371, 101.10532735085819, 147.54119473617044, 91.26977182436352, 91.93110764667516, 102.89331893562344, 82.23006128876209, 88.05522855632307, 80.94422285080437, 216.079847013487, 116.72295714653815, 202.75317769031187, 275.7874878003673, 136.8352255524972, 158.84888173416059, 125.19959612503513, 125.7708135831154, 166.3049643929421, 438.76281273334376, 186.83241201389433, 379.79055611191615, 153.4602838733893, 194.40893439510404, 140.07984321017554, 135.1715212543509, 210.54153862104152, 117.57578979842134, 116.26838163365217, 128.32749673149146, 112.5128992542984, 102.39994910280701, 100.01526218039967, 92.90686537362754, 88.4307074221477, 85.8624343201421, 82.72310705569689, 85.41924867978184, 82.81531257815924, 124.66255391482491, 98.88919323788194, 139.57606462856134, 163.35668278995578, 91.98977443328276, 217.72316944434547, 188.77912551860152, 116.42702409784835, 168.2171663359065, 188.12962812062977, 127.60008782503257, 72.13835802556828, 68.1653893251444, 71.07512661456148, 55.14265361092389, 87.86842310826567, 50.085468647867145, 47.70395381826865, 59.1277398227373, 54.047980170911515, 43.137623061513196, 46.47179366501011, 56.9445429127762, 43.25343006863817, 106.99590976558095, 66.429642988233, 70.21234797343769, 73.33282952227492, 66.21623233949697, 118.91807251483809, 202.27455637234905, 82.74907600328663, 438.76281273334376, 132.92629558368756], \"loglift\": [15.0, 14.0, 13.0, 12.0, 11.0, 10.0, 9.0, 8.0, 7.0, 6.0, 5.0, 4.0, 3.0, 2.0, 1.0, 0.8416, 0.8406, 0.84, 0.8397, 0.8389, 0.8388, 0.8388, 0.8386, 0.8383, 0.8382, 0.8378, 0.8376, 0.8372, 0.8372, 0.8371, 0.8371, 0.8371, 0.8194, 0.8093, 0.8239, 0.8071, 0.8224, 0.8177, 0.7675, 0.5365, 0.7202, 0.503, 0.7457, 0.5307, 1.0533, 1.0529, 1.0528, 1.0525, 1.0525, 1.0521, 1.0518, 1.0516, 1.0509, 1.0508, 1.0504, 1.0503, 1.05, 1.05, 1.0497, 1.0483, 1.0478, 1.0408, 1.0351, 1.0485, 0.9309, 0.898, 0.9865, 0.7821, 1.4951, 1.4941, 1.4904, 1.4894, 1.4889, 1.4874, 1.4872, 1.4866, 1.4857, 1.4851, 1.4849, 1.4848, 1.4844, 1.4837, 1.4834, 1.4775, 1.4797, 1.4681, 1.4511, 1.4481, 1.2545, 1.0546, 1.3269, 0.1695, 0.8744], \"logprob\": [15.0, 14.0, 13.0, 12.0, 11.0, 10.0, 9.0, 8.0, 7.0, 6.0, 5.0, 4.0, 3.0, 2.0, 1.0, -5.4003, -5.6693, -5.8958, -5.9488, -5.8836, -6.1032, -6.0744, -6.1256, -5.7479, -6.2283, -6.2215, -6.1091, -6.3336, -6.2652, -6.3494, -5.3676, -5.9835, -5.449, -5.1514, -5.8377, -5.7053, -5.928, -5.9281, -5.699, -4.9599, -5.6299, -5.1377, -5.8011, -5.7796, -5.5848, -5.6209, -5.1779, -5.7608, -5.772, -5.6737, -5.8054, -5.8998, -5.9241, -5.998, -6.0477, -6.0773, -6.1148, -6.0828, -6.114, -5.7064, -5.9386, -5.601, -5.4493, -6.0102, -5.2662, -5.4417, -5.8365, -5.673, -4.8481, -5.2374, -5.8113, -5.869, -5.8276, -6.083, -5.6173, -6.18, -6.2296, -6.0155, -6.1055, -6.3312, -6.2571, -6.0546, -6.3299, -5.4301, -5.9045, -5.8607, -5.8342, -5.9393, -5.5474, -5.2161, -5.8376, -5.3268, -5.8161]}, \"token.table\": {\"Topic\": [1, 2, 3, 1, 2, 3, 3, 1, 1, 2, 3, 2, 3, 1, 3, 1, 1, 3, 3, 1, 2, 3, 1, 3, 2, 3, 2, 3, 1, 2, 3, 2, 1, 2, 3, 1, 2, 1, 1, 2, 2, 2, 2, 3, 1, 2, 1, 1, 2, 3, 1, 2, 2, 3, 1, 3, 1, 1, 2, 3, 3, 2, 1, 3, 1, 2, 1, 3, 3, 2, 1, 3, 3, 1, 2, 1, 3, 1, 2, 1, 2, 3, 3, 2, 2, 1, 2, 1, 1, 2, 2, 2, 3, 1, 3, 1, 2, 1, 1, 2, 1, 3, 1, 3, 2, 3, 1, 2, 3, 1, 2, 3, 1, 2, 1, 2, 3, 2, 3, 2, 3], \"Freq\": [0.963179585085472, 0.018885874217362195, 0.018885874217362195, 0.9913180083521034, 0.9910081859425939, 0.01011232842798565, 0.994140809914127, 0.9898716803211624, 0.2858727073762167, 0.1805511836060316, 0.5341305848345101, 0.011380652623842651, 0.9901167782743107, 0.04530611141719318, 0.9514283397610568, 0.9963276016354827, 0.01869230332619099, 0.9813459246250271, 0.9783276731321278, 0.09393173486943462, 0.26202010253052815, 0.6426908175277106, 0.7338817024944503, 0.26437974375576473, 0.9866635660620202, 0.008021655008634311, 0.9951294359764464, 0.9898477414405173, 0.9903746367732424, 0.004627918863426367, 0.9939954799681768, 0.9922912305908613, 0.9057718159486816, 0.09122881599483124, 0.984873377427917, 0.9963319075927358, 0.006777768078862148, 0.9917571786709761, 0.9260096387509624, 0.07215659522734773, 0.995091871138395, 0.9912587053190589, 0.8528485316250484, 0.14832148376087798, 0.9883348950975198, 0.9899556269633997, 0.9970442368927726, 0.9645107619695492, 0.025381862157093402, 0.0072519606163124, 0.9956663298844083, 0.997691705776917, 0.9898489274710052, 0.9952971205955953, 0.01691253552051815, 0.9809270601900526, 0.988016287350295, 0.04204575380563893, 0.17659216598368352, 0.7820510207848841, 0.9829035037182056, 0.9902389842776359, 0.9938062128975149, 0.00856729493877168, 0.9765568276440434, 0.024660525950607158, 0.9963609823752418, 0.9806101880662779, 0.9980820463709579, 0.9951028200668819, 0.015053520612434042, 0.9784788398082127, 0.9852432814908716, 0.23778786001022933, 0.7609211520327339, 0.01756094524337007, 0.9834129336287238, 0.9700183732959359, 0.023852910818752522, 0.9989582413348737, 0.9794518183607351, 0.018364721594263785, 0.9968096744385534, 0.9960942451015725, 0.9913330763501104, 0.9744440379676645, 0.01597449242569942, 0.9992006420648035, 0.9941752130093499, 0.9901550504033929, 0.9896553991521468, 0.9815436505147445, 0.014329104387076562, 0.04090937196264528, 0.9545520124617233, 0.8831444085179894, 0.11775258780239858, 0.9972022240387953, 0.11941769939485533, 0.881853780146624, 0.15710145209940066, 0.8459308959198497, 0.028485018059168567, 0.9684906140117312, 0.9954414182045104, 0.9792782259086362, 0.7304191056950524, 0.03086277911387545, 0.23661463987304512, 0.7109181512149996, 0.24750483783040728, 0.042128483034962944, 0.9792800023455257, 0.01461611943799292, 0.9984847833725097, 0.9926782209765448, 0.004749656559696387, 0.9276196899891038, 0.06871256962882251, 0.9892403863431515, 0.010870773476298369], \"Term\": [\"activ\", \"activ\", \"activ\", \"algorithm\", \"american\", \"american\", \"amino\", \"antigen\", \"associ\", \"associ\", \"associ\", \"bce\", \"bce\", \"begin\", \"begin\", \"bind\", \"blood\", \"blood\", \"bone\", \"caus\", \"caus\", \"caus\", \"cell\", \"cell\", \"china\", \"china\", \"chines\", \"connect\", \"data\", \"data\", \"date\", \"did\", \"differ\", \"differ\", \"diseas\", \"distribut\", \"distribut\", \"dna\", \"doe\", \"doe\", \"dynasti\", \"econom\", \"empir\", \"empir\", \"enzym\", \"european\", \"frac\", \"function\", \"function\", \"function\", \"gene\", \"govern\", \"great\", \"hint\", \"hormon\", \"hormon\", \"immun\", \"infect\", \"infect\", \"infect\", \"layer\", \"leader\", \"matrix\", \"matrix\", \"model\", \"model\", \"molecul\", \"mongol\", \"muscl\", \"nation\", \"network\", \"network\", \"neuron\", \"new\", \"new\", \"node\", \"node\", \"number\", \"number\", \"object\", \"peopl\", \"peopl\", \"phylum\", \"polit\", \"power\", \"process\", \"process\", \"protein\", \"receptor\", \"revolut\", \"roman\", \"rule\", \"rule\", \"secret\", \"secret\", \"set\", \"set\", \"specif\", \"state\", \"state\", \"theta\", \"theta\", \"tissu\", \"tissu\", \"trade\", \"transmit\", \"type\", \"type\", \"type\", \"use\", \"use\", \"use\", \"valu\", \"valu\", \"variabl\", \"war\", \"war\", \"world\", \"world\", \"year\", \"year\"]}, \"R\": 15, \"lambda.step\": 0.01, \"plot.opts\": {\"xlab\": \"PC1\", \"ylab\": \"PC2\"}, \"topic.order\": [2, 3, 1]};\n",
       "\n",
       "function LDAvis_load_lib(url, callback){\n",
       "  var s = document.createElement('script');\n",
       "  s.src = url;\n",
       "  s.async = true;\n",
       "  s.onreadystatechange = s.onload = callback;\n",
       "  s.onerror = function(){console.warn(\"failed to load library \" + url);};\n",
       "  document.getElementsByTagName(\"head\")[0].appendChild(s);\n",
       "}\n",
       "\n",
       "if(typeof(LDAvis) !== \"undefined\"){\n",
       "   // already loaded: just create the visualization\n",
       "   !function(LDAvis){\n",
       "       new LDAvis(\"#\" + \"ldavis_el395941119756660967911256465\", ldavis_el395941119756660967911256465_data);\n",
       "   }(LDAvis);\n",
       "}else if(typeof define === \"function\" && define.amd){\n",
       "   // require.js is available: use it to load d3/LDAvis\n",
       "   require.config({paths: {d3: \"https://cdnjs.cloudflare.com/ajax/libs/d3/3.5.5/d3.min\"}});\n",
       "   require([\"d3\"], function(d3){\n",
       "      window.d3 = d3;\n",
       "      LDAvis_load_lib(\"https://cdn.rawgit.com/bmabey/pyLDAvis/files/ldavis.v1.0.0.js\", function(){\n",
       "        new LDAvis(\"#\" + \"ldavis_el395941119756660967911256465\", ldavis_el395941119756660967911256465_data);\n",
       "      });\n",
       "    });\n",
       "}else{\n",
       "    // require.js not available: dynamically load d3 & LDAvis\n",
       "    LDAvis_load_lib(\"https://cdnjs.cloudflare.com/ajax/libs/d3/3.5.5/d3.min.js\", function(){\n",
       "         LDAvis_load_lib(\"https://cdn.rawgit.com/bmabey/pyLDAvis/files/ldavis.v1.0.0.js\", function(){\n",
       "                 new LDAvis(\"#\" + \"ldavis_el395941119756660967911256465\", ldavis_el395941119756660967911256465_data);\n",
       "            })\n",
       "         });\n",
       "}\n",
       "</script>"
      ],
      "text/plain": [
       "<IPython.core.display.HTML object>"
      ]
     },
     "execution_count": 113,
     "metadata": {},
     "output_type": "execute_result"
    }
   ],
   "source": [
    "pyl_data_tfidf = pyLDAvis.sklearn.prepare(lda_corpus_tfidf, corpus_tfidf, tfidf_vectorizer, R=15)\n",
    "pyLDAvis.display(pyl_data_tfidf)\n",
    "# pyLDAvis.save_html(pyl_data_tfidf, \"../images/all_tfidf_vect_topics.html\")"
   ]
  },
  {
   "cell_type": "code",
   "execution_count": null,
   "metadata": {},
   "outputs": [],
   "source": []
  }
 ],
 "metadata": {
  "kernelspec": {
   "display_name": "Python 3",
   "language": "python",
   "name": "python3"
  },
  "language_info": {
   "codemirror_mode": {
    "name": "ipython",
    "version": 3
   },
   "file_extension": ".py",
   "mimetype": "text/x-python",
   "name": "python",
   "nbconvert_exporter": "python",
   "pygments_lexer": "ipython3",
   "version": "3.6.4"
  }
 },
 "nbformat": 4,
 "nbformat_minor": 2
}
